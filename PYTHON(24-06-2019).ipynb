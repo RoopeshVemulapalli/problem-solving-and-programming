{
 "cells": [
  {
   "cell_type": "code",
   "execution_count": null,
   "metadata": {},
   "outputs": [],
   "source": [
    "def printeven(n):\n",
    "    cnt=0\n",
    "    sum=0\n",
    "    while(cnt!=n):\n",
    "        if(cnt%2==0):\n",
    "            sum=sum+cnt\n",
    "        cnt=cnt+1\n",
    "    return sum\n",
    "print(printeven(20))"
   ]
  },
  {
   "cell_type": "code",
   "execution_count": null,
   "metadata": {},
   "outputs": [],
   "source": [
    "def factorslist(n):\n",
    "    i=1;\n",
    "    while(i!=n):\n",
    "        if(n%i==0):\n",
    "            print(i,end=\" \");\n",
    "        i=i+1;\n",
    "    return;\n",
    "factorslist(12);"
   ]
  },
  {
   "cell_type": "code",
   "execution_count": null,
   "metadata": {},
   "outputs": [],
   "source": [
    "list=[1,2,3,4,5]\n",
    "#entire list\n",
    "print(list)\n",
    "#list[0]\n",
    "print(list[0])"
   ]
  },
  {
   "cell_type": "code",
   "execution_count": null,
   "metadata": {},
   "outputs": [],
   "source": [
    "list2=[\"roopesh\",\"nikhil\",\"venkat\"]\n",
    "for x in list2:\n",
    "    print(x,end=\" \")\n"
   ]
  },
  {
   "cell_type": "code",
   "execution_count": null,
   "metadata": {},
   "outputs": [],
   "source": [
    "list1=[1,2,3,4,5,6,7]\n",
    "for x  in list1:\n",
    "    print(x,end=\" \")\n",
    "    print()"
   ]
  },
  {
   "cell_type": "code",
   "execution_count": null,
   "metadata": {},
   "outputs": [],
   "source": [
    "print(list1[4])"
   ]
  },
  {
   "cell_type": "code",
   "execution_count": null,
   "metadata": {},
   "outputs": [],
   "source": [
    "print(list1[3:7])\n",
    "print(list1[0:3])\n",
    "print(list1[:3])\n",
    "print(list1[:7])"
   ]
  },
  {
   "cell_type": "code",
   "execution_count": null,
   "metadata": {},
   "outputs": [],
   "source": [
    "list1=[1,2,3,4,5,6,7,8,9,10]\n",
    "for x in list1:\n",
    "    print(x,end=\" \")"
   ]
  },
  {
   "cell_type": "code",
   "execution_count": null,
   "metadata": {},
   "outputs": [],
   "source": [
    "print();\n",
    "print(list1[1:-1])\n",
    "print(list1[2:-2])\n",
    "print(list1[::2])\n",
    "print(list1[::3])\n",
    "print(list1[::4])\n",
    "print(list1[::-2])\n",
    "print(list1[-1])\n",
    "print(list1[-2])"
   ]
  },
  {
   "cell_type": "code",
   "execution_count": null,
   "metadata": {},
   "outputs": [],
   "source": [
    "list1=[\"akhil\",\"arun\",\"anil\",\"1\"]; \n",
    "print(list1)\n",
    "list1[2]=15\n",
    "print(list1)\n",
    "del list1[3];\n",
    "print(list1)\n"
   ]
  },
  {
   "cell_type": "code",
   "execution_count": null,
   "metadata": {},
   "outputs": [],
   "source": [
    "list1 =[\"Gitam\",\"Python\",\"Raptor\",1,5,\"Python\",\"Python\"]\n",
    "print(list1)\n",
    "list1.index(\"Python\")\n",
    "list1.index(1)\n",
    "print(len(list1))\n",
    "list1.insert(2,2019)\n",
    "print(list1) \n",
    "print(len(list1))\n",
    "list1.insert(4,2020)\n",
    "print(list1)\n"
   ]
  },
  {
   "cell_type": "markdown",
   "metadata": {},
   "source": [
    "# Remove"
   ]
  },
  {
   "cell_type": "code",
   "execution_count": null,
   "metadata": {},
   "outputs": [],
   "source": [
    "list1 =[\"Gitam\",\"Python\",\"Raptor\",1,5,\"Python\",\"Python\"]\n",
    "print(list1)\n",
    "list1.remove(\"Python\")\n",
    "print(list1)\n",
    "\n"
   ]
  },
  {
   "cell_type": "code",
   "execution_count": null,
   "metadata": {},
   "outputs": [],
   "source": [
    " \n",
    "list1.reverse()\n",
    "print(list1)"
   ]
  },
  {
   "cell_type": "code",
   "execution_count": null,
   "metadata": {},
   "outputs": [],
   "source": [
    " def linearExample(a,tarItem): \n",
    "        for i in range(len(a)):\n",
    "            if a[i]==tarItem:\n",
    "                j=0\n",
    "                while j!=i+1:\n",
    "                    print(\"!\",end=\" \") \n",
    "                    j=j+1\n",
    "                    print(end=\" \") \n",
    "a=[1,5,9,6,5,15,12,5]\n",
    "linearExample(a,5)"
   ]
  },
  {
   "cell_type": "code",
   "execution_count": null,
   "metadata": {},
   "outputs": [],
   "source": [
    "def linearsearchDuplicate(a,tarItem):\n",
    "    flag=0; \n",
    "    for i in range(len(a)):\n",
    "        if a[i]==tarItem: \n",
    "            flag=flag+1; \n",
    "            print(flag)\n",
    "a=[1,2,3,4,5,6,7,8,9]\n",
    "linearsearchDuplicate(a,9)"
   ]
  },
  {
   "cell_type": "code",
   "execution_count": null,
   "metadata": {},
   "outputs": [],
   "source": [
    "def linearformattedoutput(a):\n",
    "    for i in range(len(a)):\n",
    "        if i==0 or i==len(a)-1:\n",
    "            print(a[i],end=\" \")\n",
    "        elif a[i-1]%2==0 and a[i+1]%2==0:\n",
    "            print(a[i],end=\" \")\n",
    "a=[1,6,9,4,16,19,22]\n",
    "linearformattedoutput(a)"
   ]
  },
  {
   "cell_type": "code",
   "execution_count": 2,
   "metadata": {},
   "outputs": [
    {
     "name": "stdout",
     "output_type": "stream",
     "text": [
      "enter a nubmer12345\n",
      "[1, 2, 3, 4, 5]\n"
     ]
    }
   ],
   "source": [
    "def numberTolistConversion(n):\n",
    "    list=[]\n",
    "    while n!=0:\n",
    "        r=n%10 \n",
    "        list.append(r) \n",
    "        n=n//10 \n",
    "    list.reverse()\n",
    "    print(list)\n",
    "        \n",
    "n=int(input(\"enter a nubmer\"))\n",
    "numberTolistConversion(n)"
   ]
  },
  {
   "cell_type": "code",
   "execution_count": null,
   "metadata": {},
   "outputs": [],
   "source": []
  }
 ],
 "metadata": {
  "kernelspec": {
   "display_name": "Python 3",
   "language": "python",
   "name": "python3"
  },
  "language_info": {
   "codemirror_mode": {
    "name": "ipython",
    "version": 3
   },
   "file_extension": ".py",
   "mimetype": "text/x-python",
   "name": "python",
   "nbconvert_exporter": "python",
   "pygments_lexer": "ipython3",
   "version": "3.7.3"
  }
 },
 "nbformat": 4,
 "nbformat_minor": 2
}
